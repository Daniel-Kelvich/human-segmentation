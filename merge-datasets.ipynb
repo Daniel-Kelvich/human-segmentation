{
 "cells": [
  {
   "cell_type": "code",
   "execution_count": 1,
   "metadata": {},
   "outputs": [],
   "source": [
    "import numpy as np\n",
    "import pandas as pd\n",
    "\n",
    "from pathlib import Path"
   ]
  },
  {
   "cell_type": "code",
   "execution_count": 2,
   "metadata": {},
   "outputs": [],
   "source": [
    "data_folder = Path(\"data\")"
   ]
  },
  {
   "cell_type": "code",
   "execution_count": 3,
   "metadata": {},
   "outputs": [],
   "source": [
    "lip_folder = data_folder / \"LIP_data\"\n",
    "cihp_folder = data_folder / \"instance-level_human_parsing\"\n",
    "mhp_folder = data_folder / \"LV-MHP-v2\""
   ]
  },
  {
   "cell_type": "code",
   "execution_count": 11,
   "metadata": {},
   "outputs": [],
   "source": [
    "# general_train_description\n",
    "\n",
    "lip_train_description = pd.read_csv(lip_folder / \"trainval.csv\")\n",
    "# lip_test_description = pd.read_csv(lip_folder / \"\")\n",
    "\n",
    "cihp_train_description =  pd.read_csv(cihp_folder / \"train.csv\")\n",
    "cihp_test_description =  pd.read_csv(cihp_folder / \"test.csv\")\n",
    "\n",
    "mhp_train_description =  pd.read_csv(mhp_folder / \"train.csv\")\n",
    "# mhp_test_description =  pd.read_csv(mhp_folder / \"\")"
   ]
  },
  {
   "cell_type": "markdown",
   "metadata": {},
   "source": [
    "### Fixups for LIP dataset description"
   ]
  },
  {
   "cell_type": "code",
   "execution_count": 12,
   "metadata": {},
   "outputs": [],
   "source": [
    "lip_train_description = lip_train_description.rename(columns={\" mask\": \"mask\"})"
   ]
  },
  {
   "cell_type": "code",
   "execution_count": 13,
   "metadata": {},
   "outputs": [],
   "source": [
    "# add cihp_folder to path\n",
    "lip_train_description[\"origin\"] = lip_train_description[\"origin\"].apply(lambda p: \"LIP_data/\" + p.strip())\n",
    "lip_train_description[\"mask\"] = lip_train_description[\"mask\"].apply(lambda p: \"LIP_data/\" + p.strip())\n",
    "\n",
    "lip_train_description[\"mask\"] = lip_train_description[\"mask\"].apply(lambda p: p.replace(\".jpg\", \".png\"))"
   ]
  },
  {
   "cell_type": "markdown",
   "metadata": {},
   "source": [
    "### Train description merge "
   ]
  },
  {
   "cell_type": "code",
   "execution_count": 16,
   "metadata": {},
   "outputs": [],
   "source": [
    "general_train_description = pd.concat([\n",
    "    lip_train_description,\n",
    "    cihp_train_description,\n",
    "    mhp_train_description\n",
    "], sort=False)"
   ]
  },
  {
   "cell_type": "code",
   "execution_count": 17,
   "metadata": {},
   "outputs": [
    {
     "data": {
      "text/plain": [
       "(94145, 2)"
      ]
     },
     "execution_count": 17,
     "metadata": {},
     "output_type": "execute_result"
    }
   ],
   "source": [
    "general_train_description.shape"
   ]
  },
  {
   "cell_type": "code",
   "execution_count": 18,
   "metadata": {},
   "outputs": [],
   "source": [
    "general_train_description.to_csv(data_folder / \"train.csv\", index=False)"
   ]
  }
 ],
 "metadata": {
  "kernelspec": {
   "display_name": "Python 3",
   "language": "python",
   "name": "python3"
  },
  "language_info": {
   "codemirror_mode": {
    "name": "ipython",
    "version": 3
   },
   "file_extension": ".py",
   "mimetype": "text/x-python",
   "name": "python",
   "nbconvert_exporter": "python",
   "pygments_lexer": "ipython3",
   "version": "3.6.8"
  }
 },
 "nbformat": 4,
 "nbformat_minor": 4
}
